{
 "cells": [
  {
   "cell_type": "code",
   "execution_count": 24,
   "metadata": {},
   "outputs": [
    {
     "name": "stdout",
     "output_type": "stream",
     "text": [
      "Loading page (1/2)\n",
      "[>                                                           ] 0%\r",
      "[======>                                                     ] 10%\r",
      "[=================>                                          ] 29%\r",
      "[============================>                               ] 47%\r",
      "[==============================>                             ] 50%\r",
      "[============================================================] 100%\r",
      "Printing pages (2/2)                                               \n",
      "[>                                                           ] \r",
      "Done                                                           \n"
     ]
    },
    {
     "data": {
      "text/plain": [
       "True"
      ]
     },
     "execution_count": 24,
     "metadata": {},
     "output_type": "execute_result"
    }
   ],
   "source": [
    "from jinja2 import Environment, FileSystemLoader\n",
    "import os\n",
    "import pdfkit\n",
    "\n",
    "tel = 45.43    #телефония\n",
    "net = 209.82   #интернет\n",
    "\n",
    "templates_dir = os.path.dirname('.')\n",
    "env = Environment( loader = FileSystemLoader(templates_dir) )\n",
    "template = env.get_template('template.html')\n",
    "\n",
    "filename = 'schet_fin.html'\n",
    "with open(filename,'w') as f:\n",
    "    f.write(template.render(\n",
    "    bik = '01111111',\n",
    "    sch1 = '021204141241241000002',\n",
    "    inn = '77731531515',\n",
    "    kpp = '82947231481',\n",
    "    bank = 'АО КРОНАБАНК Г. САНКТ-ПЕТЕРБУРГ',\n",
    "    sch2 = '666600066666699996666',\n",
    "    pol = 'ООО \"000\"',\n",
    "    schn = '1337',\n",
    "    day='14',\n",
    "    month='Апреля',\n",
    "    year='20',\n",
    "    post = ' ООО \"000\", ИНН 77731531515, КПП 82947231481, 0000000 г. Санкт-Петербург ул. Аптекарская д.98 ',\n",
    "    zak = 'Ӟ̵̨̫̺̪̭͕̑̎͛̀́̈́̄̒̍А̸̧̳̯̬̻̻̤̠͛̅̉̊̈К̶̨̧̟͕̫̬̜͖̳̂͋А̷̞̮̼̮̱̞̗̳̜̬̩̝̟̿͊͗́̀͠ͅЗ̸̧̧̦͓̻̞̲̼̆͐̂͆͑͐̎̍͐͆̕̚͜͝ͅЧ̷͇̮̯͂̾̌̉́͆̉̀̔͌͗̔̽͊̚И̴͈̜̐̈̓̿̓̿̀̊̔̅̌̕͝͝К̵̲͈̗͓̜͓̓̍̓̈́͂̆̍͐̌̃͘',\n",
    "    osn = '№ 1249124 от 19.9.2013',\n",
    "    name1 = 'Интернет',\n",
    "    cost1 = net,\n",
    "    name2 ='Телефония',\n",
    "    cost2 = tel,\n",
    "    itog = tel+net,\n",
    "    itog2 = tel+net,\n",
    "    n = \" {}, на сумму {} руб.\".format(2,tel+net),\n",
    "    ruk = 'Распутин Р.Р.',\n",
    "    buh = 'Распутин Р.Р'\n",
    "    ))\n",
    "    \n",
    "pdfkit.from_file('schet_fin.html', 'out.pdf')"
   ]
  }
 ],
 "metadata": {
  "kernelspec": {
   "display_name": "Python 3",
   "language": "python",
   "name": "python3"
  },
  "language_info": {
   "codemirror_mode": {
    "name": "ipython",
    "version": 3
   },
   "file_extension": ".py",
   "mimetype": "text/x-python",
   "name": "python",
   "nbconvert_exporter": "python",
   "pygments_lexer": "ipython3",
   "version": "3.5.2"
  }
 },
 "nbformat": 4,
 "nbformat_minor": 4
}
