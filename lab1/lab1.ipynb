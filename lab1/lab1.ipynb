{
 "cells": [
  {
   "cell_type": "code",
   "execution_count": 12,
   "metadata": {
    "scrolled": true
   },
   "outputs": [
    {
     "name": "stdout",
     "output_type": "stream",
     "text": [
      "Итоговый счет: 45.43 рублей\n"
     ]
    }
   ],
   "source": [
    "'''\n",
    "Вариант 11:\n",
    "Протарифицировать  абонента  с  номером  911926375  с  коэффициентом  k: 1руб/минута исходящие звонки, 1руб/минута входящие, смс -первые 5шт бесплатно, далее 1руб/шт\n",
    "X = T * k\n",
    "X–итоговая стоимость всех звонков абонента,\n",
    "T–общая длительность звонков (сумма длительностей всех записей по абоненту),\n",
    "k–множитель тарифного плана\n",
    "Y = N * k\n",
    "Y–итоговая стоимость всех СМС абонента,\n",
    "N–общее количество СМС (сумма числа всех СМС в записях по абоненту в файле),\n",
    "k–множитель тарифного плана\n",
    "\n",
    "timestamp -время звонка\n",
    "sms_number -количество отправленных смс для абонента msisdn_origin\n",
    "'''\n",
    "import pandas as pd\n",
    "\n",
    "df = pd.read_csv(\"data.csv\")\n",
    "S = 0\n",
    "k = {\"in\":1,\"out\":1,\"sms\":{\"free\":5,\"rate\":1}}\n",
    "l = len(df.index)\n",
    "for i in range(0,l):\n",
    "    if df[\"msisdn_origin\"][i] == 911926375:\n",
    "        S+=df[\"call_duration\"][i]*k[\"out\"]\n",
    "        S+=(df[\"sms_number\"][i] - k[\"sms\"][\"free\"])*k[\"sms\"][\"rate\"]\n",
    "    if df[\"msisdn_dest\"][i] == 911926375:\n",
    "        S+=df[\"call_duration\"][i]*k[\"in\"]\n",
    "print(\"Итоговый счет: {} рублей\".format(round(S,2)))"
   ]
  },
  {
   "cell_type": "code",
   "execution_count": null,
   "metadata": {},
   "outputs": [],
   "source": []
  }
 ],
 "metadata": {
  "kernelspec": {
   "display_name": "Python 3",
   "language": "python",
   "name": "python3"
  },
  "language_info": {
   "codemirror_mode": {
    "name": "ipython",
    "version": 3
   },
   "file_extension": ".py",
   "mimetype": "text/x-python",
   "name": "python",
   "nbconvert_exporter": "python",
   "pygments_lexer": "ipython3",
   "version": "3.5.2"
  }
 },
 "nbformat": 4,
 "nbformat_minor": 4
}
