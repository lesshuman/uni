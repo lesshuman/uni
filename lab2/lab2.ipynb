{
 "cells": [
  {
   "cell_type": "code",
   "execution_count": 8,
   "metadata": {},
   "outputs": [
    {
     "name": "stdout",
     "output_type": "stream",
     "text": [
      "Итоговый счет: 209.82 рублей\n"
     ]
    }
   ],
   "source": [
    "'''\n",
    "Вариант 11\n",
    "Протарифицировать абонента с IP-адресом 17.248.150.51 с коэффициентом k: 0,5руб/Мб*\n",
    "Фактически, 0.5руб/Кбит, т.к. общий трафик абонента меньше 1Мб\n",
    "'''\n",
    "import pandas as pd\n",
    "df = pd.read_csv(\"dump.csv\",low_memory=False)\n",
    "#ibyt ~ bytes field\n",
    "#sa - source addr\n",
    "#da - dest addr\n",
    "l = len(df.index)\n",
    "coef = 0.008\n",
    "S = 0\n",
    "k = 0.5\n",
    "for i in range(0,l):\n",
    "    if df[\"sa\"][i] == \"17.248.150.51\" or df[\"da\"][i] == \"17.248.150.51\" :\n",
    "        S += df[\"ibyt\"][i]\n",
    "final=k*S*coef\n",
    "print(\"Итоговый счет: {} рублей\".format(final))\n"
   ]
  },
  {
   "cell_type": "code",
   "execution_count": null,
   "metadata": {},
   "outputs": [],
   "source": []
  }
 ],
 "metadata": {
  "kernelspec": {
   "display_name": "Python 3",
   "language": "python",
   "name": "python3"
  },
  "language_info": {
   "codemirror_mode": {
    "name": "ipython",
    "version": 3
   },
   "file_extension": ".py",
   "mimetype": "text/x-python",
   "name": "python",
   "nbconvert_exporter": "python",
   "pygments_lexer": "ipython3",
   "version": "3.5.2"
  }
 },
 "nbformat": 4,
 "nbformat_minor": 4
}
